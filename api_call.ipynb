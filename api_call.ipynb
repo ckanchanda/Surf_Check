{
 "cells": [
  {
   "cell_type": "code",
   "execution_count": 1,
   "metadata": {},
   "outputs": [],
   "source": [
    "# Import the requests library.\n",
    "import requests\n",
    "\n",
    "# Import the API key.\n",
    "from config import api_key"
   ]
  },
  {
   "cell_type": "code",
   "execution_count": 2,
   "metadata": {},
   "outputs": [
    {
     "name": "stdout",
     "output_type": "stream",
     "text": [
      "http://api.worldweatheronline.com/premium/v1/marine.ashx?key=fc76760c18cb4488a6a25807222510\n"
     ]
    }
   ],
   "source": [
    "# Starting URL for Weather Map API Call.\n",
    "url = 'http://api.worldweatheronline.com/premium/v1/marine.ashx?key=' + api_key \n",
    "print(url)"
   ]
  },
  {
   "cell_type": "code",
   "execution_count": 4,
   "metadata": {},
   "outputs": [
    {
     "name": "stdout",
     "output_type": "stream",
     "text": [
      "http://api.worldweatheronline.com/premium/v1/marine.ashx?key=fc76760c18cb4488a6a25807222510&format=xml&q=41.992395,-124.209664\n"
     ]
    }
   ],
   "source": [
    "# test lat and long variables which are going to be beach coordinates\n",
    "## using Pelican State Beach Coordinates= 41.992395, -124.209664\n",
    "lat = 41.992395\n",
    "long = -124.209664\n",
    "\n",
    "# Create an endpoint URL for a beach. \n",
    "\n",
    "beach_url = url + \"&format=json&q=\" + str(lat) + \",\" + str(long)\n",
    "print(beach_url)"
   ]
  },
  {
   "cell_type": "code",
   "execution_count": null,
   "metadata": {},
   "outputs": [],
   "source": []
  }
 ],
 "metadata": {
  "kernelspec": {
   "display_name": "Python 3 (ipykernel)",
   "language": "python",
   "name": "python3"
  },
  "language_info": {
   "codemirror_mode": {
    "name": "ipython",
    "version": 3
   },
   "file_extension": ".py",
   "mimetype": "text/x-python",
   "name": "python",
   "nbconvert_exporter": "python",
   "pygments_lexer": "ipython3",
   "version": "3.7.13"
  },
  "vscode": {
   "interpreter": {
    "hash": "ac4ab4b5bf9baf5094763d363b5ce18c148834eb93e40b146c41276b8090298a"
   }
  }
 },
 "nbformat": 4,
 "nbformat_minor": 2
}
