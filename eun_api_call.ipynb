{
 "cells": [
  {
   "cell_type": "code",
   "execution_count": 2,
   "metadata": {},
   "outputs": [],
   "source": [
    "# Import the requests library.\n",
    "import requests\n",
    "import pandas as pd\n",
    "import gmaps\n",
    "\n",
    "\n",
    "# Import the API key.\n",
    "from config import api_key"
   ]
  },
  {
   "cell_type": "code",
   "execution_count": 3,
   "metadata": {},
   "outputs": [
    {
     "name": "stdout",
     "output_type": "stream",
     "text": [
      "http://api.worldweatheronline.com/premium/v1/marine.ashx?key=fc76760c18cb4488a6a25807222510\n"
     ]
    }
   ],
   "source": [
    "# Starting URL for Weather Map API Call.\n",
    "url = 'http://api.worldweatheronline.com/premium/v1/marine.ashx?key=' + api_key \n",
    "print(url)"
   ]
  },
  {
   "cell_type": "code",
   "execution_count": 4,
   "metadata": {},
   "outputs": [
    {
     "data": {
      "text/html": [
       "<div>\n",
       "<style scoped>\n",
       "    .dataframe tbody tr th:only-of-type {\n",
       "        vertical-align: middle;\n",
       "    }\n",
       "\n",
       "    .dataframe tbody tr th {\n",
       "        vertical-align: top;\n",
       "    }\n",
       "\n",
       "    .dataframe thead th {\n",
       "        text-align: right;\n",
       "    }\n",
       "</style>\n",
       "<table border=\"1\" class=\"dataframe\">\n",
       "  <thead>\n",
       "    <tr style=\"text-align: right;\">\n",
       "      <th></th>\n",
       "      <th>Beach Name</th>\n",
       "      <th>County</th>\n",
       "      <th>Lat</th>\n",
       "      <th>Long</th>\n",
       "    </tr>\n",
       "  </thead>\n",
       "  <tbody>\n",
       "    <tr>\n",
       "      <th>0</th>\n",
       "      <td>Pelican State Beach</td>\n",
       "      <td>Del Norte</td>\n",
       "      <td>41.992395</td>\n",
       "      <td>-124.209664</td>\n",
       "    </tr>\n",
       "    <tr>\n",
       "      <th>1</th>\n",
       "      <td>Crescent Beach</td>\n",
       "      <td>Del Norte</td>\n",
       "      <td>41.728363</td>\n",
       "      <td>-124.153178</td>\n",
       "    </tr>\n",
       "    <tr>\n",
       "      <th>2</th>\n",
       "      <td>Redwood National Park</td>\n",
       "      <td>Del Norte</td>\n",
       "      <td>41.208970</td>\n",
       "      <td>-124.119056</td>\n",
       "    </tr>\n",
       "    <tr>\n",
       "      <th>3</th>\n",
       "      <td>Prairie Creek Redwoods State Beach</td>\n",
       "      <td>Del Norte</td>\n",
       "      <td>41.401741</td>\n",
       "      <td>-124.041649</td>\n",
       "    </tr>\n",
       "    <tr>\n",
       "      <th>4</th>\n",
       "      <td>Humboldt Lagoons State Park</td>\n",
       "      <td>Humboldt</td>\n",
       "      <td>41.225223</td>\n",
       "      <td>-124.098086</td>\n",
       "    </tr>\n",
       "  </tbody>\n",
       "</table>\n",
       "</div>"
      ],
      "text/plain": [
       "                           Beach Name     County        Lat        Long\n",
       "0                 Pelican State Beach  Del Norte  41.992395 -124.209664\n",
       "1                      Crescent Beach  Del Norte  41.728363 -124.153178\n",
       "2               Redwood National Park  Del Norte  41.208970 -124.119056\n",
       "3  Prairie Creek Redwoods State Beach  Del Norte  41.401741 -124.041649\n",
       "4         Humboldt Lagoons State Park   Humboldt  41.225223 -124.098086"
      ]
     },
     "execution_count": 4,
     "metadata": {},
     "output_type": "execute_result"
    }
   ],
   "source": [
    "#open csv\n",
    "CA_beach_df = pd.read_csv(\"Resources/eun_CA_beaches.csv\")\n",
    "CA_beach_df.head()"
   ]
  },
  {
   "cell_type": "code",
   "execution_count": 63,
   "metadata": {},
   "outputs": [
    {
     "name": "stdout",
     "output_type": "stream",
     "text": [
      "[('Pelican State Beach', 41.992395, -124.209664), ('Crescent Beach', 41.72836258, -124.1531784), ('Redwood National Park', 41.20897003, -124.1190559), ('Prairie Creek Redwoods State Beach', 41.40174089, -124.0416494), ('Humboldt Lagoons State Park', 41.22522304, -124.0980863), ('Sue-meg State Park', 41.13665293, -124.155297), ('Trinidad State Beach', 41.06582175, -124.1497893), ('Little River State Beach', 41.01688007, -124.1117529), ('Clam Beach County Park', 40.99847401, -124.1151808), ('Sinkyone Wilderness State Park', 39.92043479, -123.9397125), ('Westport-Union Landing State Beach', 39.67716307, -123.7912683), ('MacKerricher State Park', 39.4886489, -123.7881132), ('Caspar Headlands State Beach', 39.3627382, -123.8172252), ('Russian Gulch State Park', 39.33310956, -123.8058978), ('Manchester State Park', 38.98385949, -123.6993187), ('Schooner Gulch State Beach', 38.86821949, -123.6547063), ('Glass Beach', 39.45277476, -123.8133215), ('Gualala Point Regional Park', 38.76076189, -123.526723), ('Kruse Rhododendron State Reserve', 38.59299403, -123.3311264), ('Salt Point State Park', 38.57666921, -123.3317278), ('Stillwater Cove Regional Park', 38.54852987, -123.2943892), ('Clam Beach', 40.99536694, -124.1109588), ('Fort Ross State Historic Park', 38.51617729, -123.2460254), ('Goat Rock Beach', 38.44711794, -123.1265214), ('Blind Beach', 38.43699972, -123.1223772), ('Shell Beach', 38.50306292, -123.1417195), ('Wrights Beach', 38.40033248, -123.0969266), ('Gleason Beach', 38.39010789, -123.0857298), ('Schoolhouse Beach', 38.37626954, -123.0786946), ('Carmet Beach', 38.37254912, -123.0762862), ('Arched Rock Beach', 38.36725878, -123.0726081), ('Coleman Beach', 38.36596694, -123.0714996), ('Miwok Beach', 38.36111029, -123.0691915), ('North Salmon Creek Beach', 38.35991175, -123.0687585), ('South Salmon Creek Beach', 38.33989879, -123.0684011), ('Sonoma Coast State Beach', 38.42730398, -123.0997142), ('Doran Beach', 38.31450636, -123.0443867), ('Doran Regional Park', 38.31405857, -123.0487846), ('Tomales Bay State Park', 38.12344382, -122.9013544), ('Point Reyes National Seashore', 38.05334833, -122.8686076), ('Mount Tamalpais State Park', 37.88916572, -122.6108739), ('Stinson Beach Park', 37.89914093, -122.6457161), ('Golden Gate National Recreation Area', 37.83175951, -122.5385814), ('Dillon beach', 38.25058272, -122.9669146), ('Muir Beach', 37.86144576, -122.5794152), ('Miller/Knox Beach', 37.91654106, -122.3849756), ('Albany Beach', 37.889028, -122.317164), ('Radio Beach', 37.82500399, -122.3177221), ('Crown Memorial State Beach', 37.76638543, -122.2719476), ('Aquatic Park', 37.85749931, -122.3006492), ('East Beach', 37.90697664, -122.4472461), (\"Marshall's Beach\", 37.80212595, -122.4800495), ('Baker Beach', 37.79389403, -122.4837904), ('China Beach', 37.82800894, -122.5124907), ('Lands End Beach', 37.78765857, -122.5061247), ('Ocean Beach', 37.88181079, -122.534132), ('Fort Funston Beach', 37.71968785, -122.5028803), ('Thornton Beach State Park', 37.69895078, -122.4966631), ('Palisades Park', 34.02321351, -118.5095999), ('Northridge Park', 34.04688979, -118.6136107), ('Mussel Rock Park', 37.66864578, -122.4949438), ('Long View Park', 33.4809628, -117.7246712), ('Beach State Park', 33.45460429, -117.6692246), ('Rockaway Beach', 40.58727455, -73.82006442), ('Tunitas Creek Beach', 37.35550969, -122.3999619), ('Gray Whale Cove State Beach', 37.56465031, -122.514044), ('Montara State Beach', 37.54661402, -122.5149052), ('El Granada Beach', 37.5005241, -122.4706817), ('Vallejo Beach', 37.49660111, -122.4650877), ('Miramar Beach', 30.37588036, -86.36451333), ('Half Moon Bay State Beach', 37.47766417, -122.4500385), ('Roosevelt Beach', 37.48808914, -122.4566241), ('Dunes Beach', 37.48509246, -122.4539204), ('Venice Beach', 37.47654446, -122.4489851), ('Francis Beach', 37.46564519, -122.4467106), ('Poplar Beach', 37.45607296, -122.4447794), ('Redondo State Beach', 37.44070715, -122.4437066), ('Pelican Point Beach', 37.42830898, -122.4397991), ('Cowell Ranch Beach', 37.42101853, -122.4351767), ('Martins Beach', 37.37371681, -122.4085306), ('San Gregorio Private Beach', 37.3365993, -122.4013304), ('San Gregorio State Beach', 37.32390506, -122.402532), ('Pomponio State Beach', 37.29312103, -122.4069395), ('Pescadero State Beach', 37.26296837, -122.4136772), ('Pebble Beach', 36.57242701, -121.9477807), ('Bean Hollow State Beach', 37.22636846, -122.409955), ('Pigeon Point Beach', 37.18281646, -122.3849497), ('Año Nuevo State Park', 37.11362641, -122.3299457), ('Gazos Creek State Beach', 37.1683354, -122.3626122), ('Scaroni Road beach', 36.97819903, -122.1371627), ('Natural Bridges State Beach', 36.95043481, -122.0573468), ('Lighthouse Field State Beach', 36.95189034, -122.0285827), ('Santa Cruz Beach', 36.96440579, -122.0177257), ('Twin Lakes State Beach', 36.96234726, -121.9978356), ('Capitola State Beach', 36.97124, -121.951902), ('Seacliff State Beach', 36.97197984, -121.91399), ('Manresa State Beach', 36.93232569, -121.862878), ('New Brighton State Beach', 36.97873139, -121.9383879), ('Sunset State Beach', 36.88700143, -121.8326324), ('Asilomar State Beach', 36.61826712, -121.9419008), ('Carmel River State Beach', 36.53817954, -121.9290057), ('John Little State Reserve', 36.11949528, -121.6316069), ('Julia Pfeiffer Burns State Park', 36.16594936, -121.6801454), ('Marina State Beach', 36.69649793, -121.8094498), ('Monterey State Beach', 36.61250151, -121.8580798), ('Moss Landing State Beach', 36.81540267, -121.7915881), ('Point Lobos State Reserve', 36.5165681, -121.9388299), ('Point Sur Lightstation State Historic Park', 36.309028, -121.8954479), ('Salinas River State Beach', 36.7754768, -121.7952683), ('Sand Dollar Beach', 35.92314004, -121.4685117), ('Zmudowski State Beach', 36.84292083, -121.805257), ('William Randolph Hearst Memorial State Beach', 35.64417168, -121.1880653), ('Estero Bluffs State Park', 35.44920684, -120.9181629), ('Cayucos State Beach', 35.44857182, -120.9059346), ('Morro Strand State Beach', 35.39210458, -120.8668416), ('Morro Rock Beach', 35.37284552, -120.865919), ('Morro Bay State Park', 35.34330579, -120.8430451), ('Montaña de Oro State Park', 35.26925951, -120.8941898), ('Ávila Beach', 35.18010746, -120.7316191), ('Pismo State Beach', 35.14570355, -120.6417563), ('Rancho Guadalupe Dunes County Park', 34.96514896, -120.6515443), ('Point Sal State Beach', 34.90204849, -120.6548958), ('Surf Beach', 34.68424954, -120.6064212), ('Jalama Beach County Park', 34.51081204, -120.5018918), ('Jack and Laura Dangermond Preserve', 34.54432267, -120.4129323), ('Hollister Ranch', 34.4704015, -120.2347654), ('Gaviota State Park', 34.47353149, -120.2296213), ('Refugio State Beach', 34.46328972, -120.0701569), ('El Capitán State Beach', 34.46061439, -120.0248308), ('Santa Barbara Shores County Park', 34.42241824, -119.8961652), ('Goleta Beach Park', 34.41681648, -119.8324352), ('Arroyo Burro Beach', 34.4026134, -119.7430753), ('Leadbetter Beach', 34.40248784, -119.699369), ('West Beach', 34.40535704, -119.6973811), ('East Beach', 34.41634896, -119.6804242), ('Butterfly Beach', 34.4177324, -119.6494454), ('Lookout County Park', 34.42038268, -119.6024139), ('Carpinteria State Beach', 34.39281987, -119.5240894), ('Rincon Beach Park', 34.3801909, -119.4831245), ('Emma Wood State Beach', 34.29332738, -119.3400669), ('San Buenaventura State Beach', 34.26991871, -119.2768745), ('McGrath State Beach', 34.2210903, -119.259957), ('Mandalay State Beach', 34.18131648, -119.2390512), ('Oxnard Beach Park', 34.17672826, -119.2371455), ('Channel Islands Beach', 34.15849146, -119.2247756), ('Silver Strand Beach', 34.1582759, -119.2259773), ('Port Hueneme Beach Park', 34.14254714, -119.1960592), ('Point Mugu State Park', 34.09480328, -119.0635493), ('County Line Beach', 34.051417, -118.9601453), ('Leo Carrillo State Park', 34.04417165, -118.9353832), ('Robert Meyer Memorial State Beach', 34.03869785, -118.8758222), ('El Pescador State Beach', 34.04055637, -118.8920206), ('La Piedra State Beach', 34.03985483, -118.8874178), ('El Matador State Beach', 34.03820261, -118.8747166), ('Lechuza Beach', 34.03610607, -118.8662851), ('Broad Beach', 34.0378004, -118.8678132), ('Zuma Beach County Park', 34.02190008, -118.8306025), ('Point Dume State Beach', 34.01137544, -118.8169822), ('Malibu Lagoon State Beach', 34.03397257, -118.6803286), ('Topanga State Beach', 34.07308175, -118.5913072), ('Will Rogers State Beach', 34.03695749, -118.5375772), ('Santa Monica State Beach', 34.01453645, -118.5023759), ('Venice City Beach', 33.97918361, -118.469256), ('Playa Del Rey', 33.953557, -118.4489999), ('Dockweiler State Beach', 33.93020159, -118.4361253), ('El Segundo Beach', 33.91567244, -118.4299455), ('El Porto Beach', 33.90327605, -118.4218), ('Manhattan Beach County Park', 33.90186877, -118.4213709), ('Hermosa City Beach', 33.86262759, -118.4029938), ('Redondo Beach State Park', 33.8702527, -118.4056974), ('RAT Beach', 33.80419646, -118.3947961), ('Torrance County Beach', 33.81375651, -118.3917316), ('Royal Palms State Beach', 33.72059658, -118.3280213), ('Cabrillo Beach Park', 33.71624105, -118.3182366), ('Los Alamitos Bay (Long Beach)', 33.74966979, -118.1154674), (\"Mother's Beach (Long Beach)\", 33.75832864, -118.1198392), ('Seal Beach', 33.73288587, -118.0944039), ('Surfside Beach', 28.95797697, -95.27664486), ('Sunset Beach', 33.87633524, -78.49002885), ('Bolsa Chica State Beach', 33.69949298, -118.0506696), ('Huntington City Beach', 33.6556063, -118.0027792), ('Huntington State Beach', 33.63838381, -117.9741486), ('Santa Ana River County Beach', 33.62579683, -117.9515567), ('Newport Municipal Beach', 33.60645254, -117.9260873), ('Balboa Beach', 33.60304736, -117.9113882), ('West Jetty View Park', 33.595343, -117.8830937), ('Bayside Drive County Beach', 33.60680874, -117.8844751), ('China Cove Beach', 33.59829167, -117.880188), ('Rocky Point', 31.3232581, -113.5529865), ('Corona del Mar State Beach', 33.59308086, -117.8765156), ('Little Corona del Mar Beach', 33.59007934, -117.8689934), ('Crystal Cove State Park', 33.57566596, -117.8412706), ('Crescent Bay Point Park', 33.54707317, -117.8038219), (\"Shaw's Cove\", 33.54560671, -117.7982644), (\"Diver's Cove\", 33.54480194, -117.7945844), ('Rockpile Beach', 33.543094, -117.7896491), ('Picnic Beach', 33.54364841, -117.7927497), ('Main Beach', 33.54256641, -117.7869133), ('Brooks Beach', 33.53275705, -117.7771038), ('Victoria Beach', 33.51689843, -117.7611228), ('Laguna Beach', 33.54263769, -117.7870208), ('Aliso Creek County Beach', 33.51038632, -117.7525398), ('West Street Beach', 33.50595903, -117.7486526), ('1,000 Steps Beach', 33.4985416, -117.7414247), ('Salt Creek County Beach', 33.47769283, -117.7226023), ('Doheny State Beach', 33.46287214, -117.6873259), ('Capistrano Beach', 33.45614113, -117.6676277), ('Poche Beach', 33.44156743, -117.64617), ('San Clemente City Beach', 33.42782296, -117.6280388), ('San Clemente State Beach', 33.40365884, -117.6048362), ('San Onofre State Beach', 33.37388206, -117.5662879), ('Del Mar Beach, Camp Pendleton', 33.22066881, -117.4072513), ('Harbor Beach', 33.20826708, -117.3992667), ('Oceanside City Beach', 33.19538512, -117.3857032), ('Buccaneer Beach, Oceanside', 33.17851501, -117.3703371), ('South Oceanside Beach (Cassidy Street)', 33.17311454, -117.3655589), ('Saint Malo Beach', 33.16615726, -117.360099), ('Carlsbad City Beach', 33.15757212, -117.3532021), ('Terra Mar Point', 33.12822917, -117.3335735), ('Carlsbad State Beach', 33.15031883, -117.3487623), ('South Carlsbad State Beach', 33.10359124, -117.3199447), ('Ponto Beach', 33.10747125, -117.3218329), ('Grandview', 33.07705649, -117.3110183), (\"Beacon's Beach\", 33.07691959, -117.3099082), ('Stone Steps Beach', 33.05364974, -117.3011103), ('Moonlight Beach', 33.0493509, -117.298868), ('D Street Viewpoint', 33.04570416, -117.2974281), ('Boneyard Beach', 33.04566009, -117.2974694), ('Swamis', 33.03502813, -117.2929205), ('San Elijo State Beach', 33.02257902, -117.2842516), ('Cardiff State Beach', 33.01050606, -117.27963), ('Tide Beach Park', 32.99686572, -117.2764543), ('Fletcher Cove Park', 32.99089067, -117.2752956), ('Seascape Surf', 32.98567586, -117.2729118), ('Del Mar City Beach', 32.97695929, -117.269502), ('Torrey Pines State Beach', 32.93778126, -117.2617343), (\"Black's Beach\", 32.89147257, -117.2559886), ('La Jolla Shores', 32.88563453, -117.2535424), ('La Jolla Cove', 32.85038249, -117.2730244), ('Shell Beach', 35.17215991, -120.70133), (\"Children's Pool Beach\", 32.84769091, -117.2781184), ('Marine Street Beach', 32.83785649, -117.2816841), ('Windansea Beach', 32.83123002, -117.2813634), ('La Jolla Strand Park', 32.86158261, -117.2560868), ('Tourmaline Surfing Park', 32.80545903, -117.2625367), ('Pacific Beach', 32.79393428, -117.2568115), ('Mission Beach', 32.77304026, -117.25171), ('Ocean Beach City Beach', 32.74163262, -117.2544577), ('Coronado Municipal Beach', 32.68946424, -117.1868348), ('Silver Strand State Beach', 32.63466425, -117.1419929), ('Imperial Beach', 32.57583119, -117.1265769), ('Border Field State Park', 32.54494004, -117.1223413)]\n"
     ]
    }
   ],
   "source": [
    "# variables for the lat/lng/beach from csv\n",
    "lats = CA_beach_df['Lat']\n",
    "lngs = CA_beach_df['Long']\n",
    "beach = CA_beach_df['Beach Name']\n",
    "\n",
    "# making a list of these from the csv\n",
    "city_lat_lngs = zip(beach,lats,lngs)\n",
    "coordinates = list(city_lat_lngs)\n",
    "print (coordinates)\n",
    "\n",
    "for "
   ]
  },
  {
   "cell_type": "code",
   "execution_count": 6,
   "metadata": {},
   "outputs": [
    {
     "name": "stdout",
     "output_type": "stream",
     "text": [
      "Beach Weather found.\n"
     ]
    }
   ],
   "source": [
    "# test lat and long variables which are going to be beach coordinates\n",
    "## using Pelican State Beach Coordinates= 41.992395, -124.209664\n",
    "lat = 41.992395\n",
    "long = -124.209664\n",
    "\n",
    "# Create an endpoint URL for a beach. \n",
    "\n",
    "beach_url = url + \"&format=json&q=\" + str(lat) + \",\" + str(long)\n",
    "\n",
    "#get it in text format\n",
    "beach_weather = requests.get(beach_url)\n",
    "\n",
    "if beach_weather.status_code == 200:\n",
    "    print (f\"Beach Weather found.\")\n",
    "\n",
    "else: \n",
    "    print (f\"Beach weather not found.\")"
   ]
  },
  {
   "cell_type": "code",
   "execution_count": 62,
   "metadata": {},
   "outputs": [
    {
     "ename": "IndentationError",
     "evalue": "unexpected indent (2930015349.py, line 11)",
     "output_type": "error",
     "traceback": [
      "\u001b[1;36m  File \u001b[1;32m\"C:\\Users\\eshin\\AppData\\Local\\Temp\\ipykernel_34640\\2930015349.py\"\u001b[1;36m, line \u001b[1;32m11\u001b[0m\n\u001b[1;33m    try:\u001b[0m\n\u001b[1;37m    ^\u001b[0m\n\u001b[1;31mIndentationError\u001b[0m\u001b[1;31m:\u001b[0m unexpected indent\n"
     ]
    }
   ],
   "source": [
    "# Create an empty list to hold the weather data.\n",
    "city_data = []\n",
    "# Print the beginning of the logging.\n",
    "print(\"Beginning Data Retrieval     \")\n",
    "print(\"-----------------------------\")\n",
    "\n",
    "# Create counters.\n",
    "record_count = 1\n",
    "set_count = 1\n",
    "\n",
    "# Loop through all the cities in the list.\n",
    "for i, lat and long in :\n",
    "\n",
    "    # Group cities in sets of 30 for logging purposes.\n",
    "    if (i % 30 == 0 and i >= 30):\n",
    "        set_count += 1\n",
    "        record_count = 1\n",
    "        time.sleep(60)\n",
    "\n",
    "    # Create endpoint URL with each city.\n",
    "    beach_url = url + \"&format=json&q=\" + str(lat) + \",\" + str(long)\n",
    "\n",
    "    # Log the URL, record, and set numbers and the city.\n",
    "    print(f\"Processing Record {record_count} of Set {set_count}\")\n",
    "    \n",
    "    # Add 1 to the record count.\n",
    "    record_count += 1\n",
    "    \n",
    "# Run an API request for each of the cities.\n",
    "    try:\n",
    "        # Parse the JSON and retrieve data.\n",
    "        beach_weather = requests.get(city_url).json()\n",
    "        \n",
    "        # Parse out the needed data.\n",
    "        sunrise = beach_data['data']['weather'][0]['astronomy'][0]['sunrise']\n",
    "        sunset = beach_data['data']['weather'][0]['astronomy'][0]['sunset']\n",
    "        weather = beach_data['data']['weather'][0]['hourly'][2]['weatherDesc'][0]['value']\n",
    "        temp = beach_data['data']['weather'][0]['hourly'][2]['tempF']\n",
    "        watertemp = beach_data['data']['weather'][0]['hourly'][2]['waterTemp_F']\n",
    "        cloudcover = beach_data['data']['weather'][0]['hourly'][2]['cloudcover']\n",
    "        windspeed = beach_data['data']['weather'][0]['hourly'][2]['windspeedMiles']\n",
    "        swell = beach_data['data']['weather'][0]['hourly'][2]['swellHeight_ft']\n",
    "        \n",
    "        # Append the city information into city_data list.\n",
    "        city_data.append({\n",
    "                          \"Sunrise\": sunrise,\n",
    "                          \"Sunset\": sunset,\n",
    "                          \"Weather Description\": weather,\n",
    "                          \"Temperature\": temp,\n",
    "                          \"Water Temperature\": watertemp,\n",
    "                          \"Cloud Cover\": cloudcover,\n",
    "                          \"Wind Speed\": windspeed,\n",
    "                          \"Wave Height\": swell\n",
    "                         })\n",
    "\n",
    "# If an error is experienced, skip the city.\n",
    "    except:\n",
    "        print(\"Beach information not found. Skipping...\")\n",
    "        pass\n",
    "\n",
    "# Indicate that Data Loading is complete.\n",
    "print(\"-----------------------------\")\n",
    "print(\"Data Retrieval Complete      \")\n",
    "print(\"-----------------------------\")"
   ]
  },
  {
   "cell_type": "code",
   "execution_count": null,
   "metadata": {},
   "outputs": [],
   "source": []
  }
 ],
 "metadata": {
  "kernelspec": {
   "display_name": "Python 3 (ipykernel)",
   "language": "python",
   "name": "python3"
  },
  "language_info": {
   "codemirror_mode": {
    "name": "ipython",
    "version": 3
   },
   "file_extension": ".py",
   "mimetype": "text/x-python",
   "name": "python",
   "nbconvert_exporter": "python",
   "pygments_lexer": "ipython3",
   "version": "3.7.13"
  },
  "vscode": {
   "interpreter": {
    "hash": "ac4ab4b5bf9baf5094763d363b5ce18c148834eb93e40b146c41276b8090298a"
   }
  }
 },
 "nbformat": 4,
 "nbformat_minor": 2
}
