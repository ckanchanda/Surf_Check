{
 "cells": [
  {
   "cell_type": "code",
   "execution_count": null,
   "metadata": {},
   "outputs": [],
   "source": [
    "# Import the dependencies.\n",
    "import pandas as pd\n",
    "import matplotlib.pyplot as plt\n",
    "import numpy as np\n",
    "from citipy import citipy\n",
    "\n",
    "# Import the time library and the datetime module from the datetime library \n",
    "import time\n",
    "from datetime import datetime\n",
    "\n",
    "# Import the requests library.\n",
    "import requests\n",
    "\n",
    "\n",
    "# Import the API key.\n",
    "from config import api_key"
   ]
  },
  {
   "cell_type": "code",
   "execution_count": null,
   "metadata": {},
   "outputs": [],
   "source": [
    "# Starting URL for Weather Map API Call.\n",
    "url = 'http://api.worldweatheronline.com/premium/v1/marine.ashx?key=' + api_key \n",
    "print(url)"
   ]
  },
  {
   "cell_type": "code",
   "execution_count": null,
   "metadata": {},
   "outputs": [],
   "source": [
    "#open csv\n",
    "CA_beach_df = pd.read_csv(\"Resources/eun_CA_beaches.csv\")\n",
    "CA_beach_df.head()"
   ]
  },
  {
   "cell_type": "code",
   "execution_count": 80,
   "metadata": {},
   "outputs": [
    {
     "data": {
      "text/plain": [
       "252"
      ]
     },
     "execution_count": 80,
     "metadata": {},
     "output_type": "execute_result"
    }
   ],
   "source": [
    "# variables for the lat/lng/beach from csv\n",
    "lats = CA_beach_df['Lat']\n",
    "lngs = CA_beach_df['Long']\n",
    "beaches = CA_beach_df['Beach Name']\n",
    "\n",
    "# making a list of these from the csv\n",
    "city_lat_lngs = zip(beach,lats,lngs)\n",
    "coordinates = list(city_lat_lngs)\n",
    "\n",
    "len(beaches)"
   ]
  },
  {
   "cell_type": "code",
   "execution_count": 91,
   "metadata": {},
   "outputs": [
    {
     "ename": "TypeError",
     "evalue": "list indices must be integers or slices, not str",
     "output_type": "error",
     "traceback": [
      "\u001b[1;31m---------------------------------------------------------------------------\u001b[0m",
      "\u001b[1;31mTypeError\u001b[0m                                 Traceback (most recent call last)",
      "\u001b[1;32m~\\AppData\\Local\\Temp\\ipykernel_34640\\4174850914.py\u001b[0m in \u001b[0;36m<module>\u001b[1;34m\u001b[0m\n\u001b[0;32m      3\u001b[0m     \u001b[0mbeach_weather\u001b[0m \u001b[1;33m=\u001b[0m \u001b[0mrequests\u001b[0m\u001b[1;33m.\u001b[0m\u001b[0mget\u001b[0m\u001b[1;33m(\u001b[0m\u001b[0mbeach_url\u001b[0m\u001b[1;33m)\u001b[0m\u001b[1;33m.\u001b[0m\u001b[0mjson\u001b[0m\u001b[1;33m(\u001b[0m\u001b[1;33m)\u001b[0m\u001b[1;33m\u001b[0m\u001b[1;33m\u001b[0m\u001b[0m\n\u001b[0;32m      4\u001b[0m \u001b[1;33m\u001b[0m\u001b[0m\n\u001b[1;32m----> 5\u001b[1;33m     \u001b[0msunrise\u001b[0m \u001b[1;33m=\u001b[0m \u001b[0mbeach_data\u001b[0m\u001b[1;33m[\u001b[0m\u001b[1;34m'data'\u001b[0m\u001b[1;33m]\u001b[0m\u001b[1;33m[\u001b[0m\u001b[1;34m'weather'\u001b[0m\u001b[1;33m]\u001b[0m\u001b[1;33m[\u001b[0m\u001b[1;36m0\u001b[0m\u001b[1;33m]\u001b[0m\u001b[1;33m[\u001b[0m\u001b[1;34m'astronomy'\u001b[0m\u001b[1;33m]\u001b[0m\u001b[1;33m[\u001b[0m\u001b[1;36m0\u001b[0m\u001b[1;33m]\u001b[0m\u001b[1;33m[\u001b[0m\u001b[1;34m'sunrise'\u001b[0m\u001b[1;33m]\u001b[0m\u001b[1;33m\u001b[0m\u001b[1;33m\u001b[0m\u001b[0m\n\u001b[0m\u001b[0;32m      6\u001b[0m \u001b[1;33m\u001b[0m\u001b[0m\n\u001b[0;32m      7\u001b[0m     \u001b[0mprint\u001b[0m\u001b[1;33m(\u001b[0m\u001b[0msunrise\u001b[0m\u001b[1;33m)\u001b[0m\u001b[1;33m\u001b[0m\u001b[1;33m\u001b[0m\u001b[0m\n",
      "\u001b[1;31mTypeError\u001b[0m: list indices must be integers or slices, not str"
     ]
    }
   ],
   "source": [
    "for i, beach in enumerate(coordinates):\n",
    "    beach_url = url + \"&format=json&q=\" + str(coordinates[i-1][1]) + \",\" + str(coordinates[i-1][2])\n",
    "    beach_weather = requests.get(beach_url).json()\n",
    "    \n",
    "    sunrise = beach_data['data']['weather'][0]['astronomy'][0]['sunrise']\n",
    "    \n",
    "    print(sunrise)\n",
    "    "
   ]
  },
  {
   "cell_type": "code",
   "execution_count": 6,
   "metadata": {},
   "outputs": [
    {
     "name": "stdout",
     "output_type": "stream",
     "text": [
      "Beach Weather found.\n"
     ]
    }
   ],
   "source": [
    "# test lat and long variables which are going to be beach coordinates\n",
    "## using Pelican State Beach Coordinates= 41.992395, -124.209664\n",
    "lat = 41.992395\n",
    "long = -124.209664\n",
    "\n",
    "# Create an endpoint URL for a beach. \n",
    "\n",
    "beach_url = url + \"&format=json&q=\" + str(lat) + \",\" + str(long)\n",
    "\n",
    "#get it in text format\n",
    "beach_weather = requests.get(beach_url)\n",
    "\n",
    "if beach_weather.status_code == 200:\n",
    "    print (f\"Beach Weather found.\")\n",
    "\n",
    "else: \n",
    "    print (f\"Beach weather not found.\")"
   ]
  },
  {
   "cell_type": "code",
   "execution_count": 90,
   "metadata": {},
   "outputs": [
    {
     "name": "stdout",
     "output_type": "stream",
     "text": [
      "Beginning Data Retrieval     \n",
      "-----------------------------\n",
      "Processing Record 1 of Set 1 --- Border Field State Park\n",
      "Beach information not found. Skipping...\n",
      "Processing Record 2 of Set 1 --- Pelican State Beach\n",
      "Beach information not found. Skipping...\n",
      "Processing Record 3 of Set 1 --- Crescent Beach\n",
      "Beach information not found. Skipping...\n",
      "Processing Record 4 of Set 1 --- Redwood National Park\n",
      "Beach information not found. Skipping...\n",
      "Processing Record 5 of Set 1 --- Prairie Creek Redwoods State Beach\n",
      "Beach information not found. Skipping...\n",
      "Processing Record 6 of Set 1 --- Humboldt Lagoons State Park\n",
      "Beach information not found. Skipping...\n",
      "Processing Record 7 of Set 1 --- Sue-meg State Park\n",
      "Beach information not found. Skipping...\n",
      "Processing Record 8 of Set 1 --- Trinidad State Beach\n",
      "Beach information not found. Skipping...\n",
      "Processing Record 9 of Set 1 --- Little River State Beach\n",
      "Beach information not found. Skipping...\n",
      "Processing Record 10 of Set 1 --- Clam Beach County Park\n",
      "Beach information not found. Skipping...\n",
      "Processing Record 11 of Set 1 --- Sinkyone Wilderness State Park\n",
      "Beach information not found. Skipping...\n",
      "Processing Record 12 of Set 1 --- Westport-Union Landing State Beach\n",
      "Beach information not found. Skipping...\n",
      "Processing Record 13 of Set 1 --- MacKerricher State Park\n",
      "Beach information not found. Skipping...\n",
      "Processing Record 14 of Set 1 --- Caspar Headlands State Beach\n",
      "Beach information not found. Skipping...\n",
      "Processing Record 15 of Set 1 --- Russian Gulch State Park\n",
      "Beach information not found. Skipping...\n",
      "Processing Record 16 of Set 1 --- Manchester State Park\n",
      "Beach information not found. Skipping...\n",
      "Processing Record 17 of Set 1 --- Schooner Gulch State Beach\n",
      "Beach information not found. Skipping...\n",
      "Processing Record 18 of Set 1 --- Glass Beach\n",
      "Beach information not found. Skipping...\n",
      "Processing Record 19 of Set 1 --- Gualala Point Regional Park\n",
      "Beach information not found. Skipping...\n",
      "Processing Record 20 of Set 1 --- Kruse Rhododendron State Reserve\n",
      "Beach information not found. Skipping...\n",
      "Processing Record 21 of Set 1 --- Salt Point State Park\n",
      "Beach information not found. Skipping...\n",
      "Processing Record 22 of Set 1 --- Stillwater Cove Regional Park\n",
      "Beach information not found. Skipping...\n",
      "Processing Record 23 of Set 1 --- Clam Beach\n",
      "Beach information not found. Skipping...\n",
      "Processing Record 24 of Set 1 --- Fort Ross State Historic Park\n",
      "Beach information not found. Skipping...\n",
      "Processing Record 25 of Set 1 --- Goat Rock Beach\n",
      "Beach information not found. Skipping...\n",
      "Processing Record 26 of Set 1 --- Blind Beach\n",
      "Beach information not found. Skipping...\n",
      "Processing Record 27 of Set 1 --- Shell Beach\n",
      "Beach information not found. Skipping...\n",
      "Processing Record 28 of Set 1 --- Wrights Beach\n",
      "Beach information not found. Skipping...\n",
      "Processing Record 29 of Set 1 --- Gleason Beach\n",
      "Beach information not found. Skipping...\n",
      "Processing Record 30 of Set 1 --- Schoolhouse Beach\n",
      "Beach information not found. Skipping...\n"
     ]
    },
    {
     "ename": "KeyboardInterrupt",
     "evalue": "",
     "output_type": "error",
     "traceback": [
      "\u001b[1;31m---------------------------------------------------------------------------\u001b[0m",
      "\u001b[1;31mKeyboardInterrupt\u001b[0m                         Traceback (most recent call last)",
      "\u001b[1;32m~\\AppData\\Local\\Temp\\ipykernel_34640\\569557556.py\u001b[0m in \u001b[0;36m<module>\u001b[1;34m\u001b[0m\n\u001b[0;32m     16\u001b[0m         \u001b[0mset_count\u001b[0m \u001b[1;33m+=\u001b[0m \u001b[1;36m1\u001b[0m\u001b[1;33m\u001b[0m\u001b[1;33m\u001b[0m\u001b[0m\n\u001b[0;32m     17\u001b[0m         \u001b[0mrecord_count\u001b[0m \u001b[1;33m=\u001b[0m \u001b[1;36m1\u001b[0m\u001b[1;33m\u001b[0m\u001b[1;33m\u001b[0m\u001b[0m\n\u001b[1;32m---> 18\u001b[1;33m         \u001b[0mtime\u001b[0m\u001b[1;33m.\u001b[0m\u001b[0msleep\u001b[0m\u001b[1;33m(\u001b[0m\u001b[1;36m60\u001b[0m\u001b[1;33m)\u001b[0m\u001b[1;33m\u001b[0m\u001b[1;33m\u001b[0m\u001b[0m\n\u001b[0m\u001b[0;32m     19\u001b[0m \u001b[1;33m\u001b[0m\u001b[0m\n\u001b[0;32m     20\u001b[0m     \u001b[1;31m# Create endpoint URL with each city.\u001b[0m\u001b[1;33m\u001b[0m\u001b[1;33m\u001b[0m\u001b[1;33m\u001b[0m\u001b[0m\n",
      "\u001b[1;31mKeyboardInterrupt\u001b[0m: "
     ]
    }
   ],
   "source": [
    "# Create an empty list to hold the weather data.\n",
    "beach_data = []\n",
    "# Print the beginning of the logging.\n",
    "print(\"Beginning Data Retrieval     \")\n",
    "print(\"-----------------------------\")\n",
    "\n",
    "# Create counters.\n",
    "record_count = 1\n",
    "set_count = 1\n",
    "\n",
    "# Loop through all the cities in the list.\n",
    "for i, j in enumerate(coordinates) :\n",
    "\n",
    "    # Group beaches in sets of 30 for logging purposes.\n",
    "    if (i % 30 == 0 and i >= 30):\n",
    "        set_count += 1\n",
    "        record_count = 1\n",
    "        time.sleep(60)\n",
    "\n",
    "    # Create endpoint URL with each city.\n",
    "    beach_url = url + \"&format=json&q=\" + str(coordinates[i-1][1]) + \",\" + str(coordinates[i-1][2])\n",
    "\n",
    "    # Log the URL, record, and set numbers and the city.\n",
    "    print(f\"Processing Record {record_count} of Set {set_count} --- {coordinates[i-1][0]}\")\n",
    "    \n",
    "    # Add 1 to the record count.\n",
    "    record_count += 1\n",
    "    \n",
    "# Run an API request for each of the cities.\n",
    "    try:\n",
    "        # Parse the JSON and retrieve data.\n",
    "        beach_weather = requests.get(beach_url).json()\n",
    "        \n",
    "        # Parse out the needed data.\n",
    "        sunrise = beach_weather['data']['weather'][0]['astronomy'][0]['sunrise']\n",
    "        sunset = beach_weather['data']['weather'][0]['astronomy'][0]['sunset']\n",
    "        weather = beach_weather['data']['weather'][0]['hourly'][2]['weatherDesc'][0]['value']\n",
    "        temp = beach_weather['data']['weather'][0]['hourly'][2]['tempF']\n",
    "        watertemp = beach_weather['data']['weather'][0]['hourly'][2]['waterTemp_F']\n",
    "        cloudcover = beach_weather['data']['weather'][0]['hourly'][2]['cloudcover']\n",
    "        windspeed = beach_weather['data']['weather'][0]['hourly'][2]['windspeedMiles']\n",
    "        swell = beach_weather['data']['weather'][0]['hourly'][2]['swellHeight_ft']\n",
    "        \n",
    "        # Append the city information into city_data list.\n",
    "        beach_data.append({\"Beach Name\": coordinates [i-1][0],\n",
    "                           \"Latitude\": coordinates [i-1][1],\n",
    "                           \"Longitude\": coordinates [i-1][2],\n",
    "                          \"Sunrise\": sunrise,\n",
    "                          \"Sunset\": sunset,\n",
    "                          \"Weather Description\": weather,\n",
    "                          \"Temperature\": temp,\n",
    "                          \"Water Temperature\": watertemp,\n",
    "                          \"Cloud Cover\": cloudcover,\n",
    "                          \"Wind Speed\": windspeed,\n",
    "                          \"Wave Height\": swell\n",
    "                         })\n",
    "\n",
    "# If an error is experienced, skip the city.\n",
    "    except:\n",
    "        print(\"Beach information not found. Skipping...\")\n",
    "        pass\n",
    "\n",
    "# Indicate that Data Loading is complete.\n",
    "print(\"-----------------------------\")\n",
    "print(\"Data Retrieval Complete      \")\n",
    "print(\"-----------------------------\")"
   ]
  },
  {
   "cell_type": "code",
   "execution_count": null,
   "metadata": {},
   "outputs": [],
   "source": []
  }
 ],
 "metadata": {
  "kernelspec": {
   "display_name": "Python 3 (ipykernel)",
   "language": "python",
   "name": "python3"
  },
  "language_info": {
   "codemirror_mode": {
    "name": "ipython",
    "version": 3
   },
   "file_extension": ".py",
   "mimetype": "text/x-python",
   "name": "python",
   "nbconvert_exporter": "python",
   "pygments_lexer": "ipython3",
   "version": "3.7.13"
  },
  "vscode": {
   "interpreter": {
    "hash": "ac4ab4b5bf9baf5094763d363b5ce18c148834eb93e40b146c41276b8090298a"
   }
  }
 },
 "nbformat": 4,
 "nbformat_minor": 2
}
